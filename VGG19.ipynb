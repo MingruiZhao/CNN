{
  "nbformat": 4,
  "nbformat_minor": 0,
  "metadata": {
    "kernelspec": {
      "display_name": "Python 3",
      "language": "python",
      "name": "python3"
    },
    "language_info": {
      "codemirror_mode": {
        "name": "ipython",
        "version": 3
      },
      "file_extension": ".py",
      "mimetype": "text/x-python",
      "name": "python",
      "nbconvert_exporter": "python",
      "pygments_lexer": "ipython3",
      "version": "3.7.4-final"
    },
    "colab": {
      "name": "VGG19.ipynb",
      "provenance": [],
      "collapsed_sections": []
    },
    "accelerator": "GPU"
  },
  "cells": [
    {
      "cell_type": "code",
      "metadata": {
        "tags": [],
        "id": "_Q5g-JxZRq9W",
        "colab_type": "code",
        "colab": {
          "base_uri": "https://localhost:8080/",
          "height": 1000
        },
        "outputId": "aff99e99-5844-4cca-d74b-94009f0560f9"
      },
      "source": [
        "import torch\n",
        "import torchvision\n",
        "import torchvision.transforms as transforms\n",
        "import matplotlib.pyplot as plt\n",
        "import numpy as np\n",
        "import torch.nn as nn\n",
        "import torch.nn.functional as F\n",
        "import torch.optim as optim\n",
        "import math\n",
        "transform = transforms.Compose(\n",
        "    [transforms.ToTensor(),\n",
        "     transforms.Normalize((0.5, 0.5, 0.5), (0.5, 0.5, 0.5))])\n",
        "\n",
        "trainset = torchvision.datasets.CIFAR10(root='./data', train=True,\n",
        "                                        download=True, transform=transform)\n",
        "trainloader = torch.utils.data.DataLoader(trainset, batch_size=4,\n",
        "                                          shuffle=True, num_workers=2)\n",
        "\n",
        "testset = torchvision.datasets.CIFAR10(root='./data', train=False,\n",
        "                                       download=True, transform=transform)\n",
        "testloader = torch.utils.data.DataLoader(testset, batch_size=4,\n",
        "                                         shuffle=False, num_workers=2)\n",
        "\n",
        "classes = ('plane', 'car', 'bird', 'cat',\n",
        "           'deer', 'dog', 'frog', 'horse', 'ship', 'truck')\n",
        "device = torch.device(\"cuda:0\" if torch.cuda.is_available() else \"cpu\")\n",
        "\n",
        "class Net(nn.Module):\n",
        "    def __init__(self,num_classes = 10):\n",
        "        super(Net, self).__init__()\n",
        "        self.features = nn.Sequential(\n",
        "            nn.Conv2d(3,64,kernel_size=3,padding=1),\n",
        "            nn.BatchNorm2d(64),\n",
        "            nn.ReLU(True),\n",
        "            nn.Conv2d(64,64,kernel_size=3,padding=1),\n",
        "            nn.BatchNorm2d(64),\n",
        "            nn.ReLU(True),\n",
        "            nn.MaxPool2d(kernel_size=2,stride=2),\n",
        "            nn.Conv2d(64,128,kernel_size=3,padding=1),\n",
        "            nn.BatchNorm2d(128),\n",
        "            nn.ReLU(True),\n",
        "            nn.Conv2d(128,128,kernel_size=3,padding=1),\n",
        "            nn.BatchNorm2d(128),\n",
        "            nn.ReLU(True),\n",
        "            nn.MaxPool2d(kernel_size=2,stride=2),\n",
        "            nn.Conv2d(128,256,kernel_size=3,padding=1),\n",
        "            nn.BatchNorm2d(256),\n",
        "            nn.ReLU(True),\n",
        "            nn.Conv2d(256,256,kernel_size=3,padding=1),\n",
        "            nn.BatchNorm2d(256),\n",
        "            nn.ReLU(True),\n",
        "            nn.Conv2d(256,256,kernel_size=3,padding=1),\n",
        "            nn.BatchNorm2d(256),\n",
        "            nn.ReLU(True),\n",
        "            nn.Conv2d(256,256,kernel_size=3,padding=1),\n",
        "            nn.BatchNorm2d(256),\n",
        "            nn.ReLU(True),\n",
        "            nn.MaxPool2d(kernel_size=2,stride=2),\n",
        "            nn.Conv2d(256,512,kernel_size=3,padding=1),\n",
        "            nn.BatchNorm2d(512),\n",
        "            nn.ReLU(True),\n",
        "            nn.Conv2d(512,512,kernel_size=3,padding=1),\n",
        "            nn.BatchNorm2d(512),\n",
        "            nn.ReLU(True),\n",
        "            nn.Conv2d(512,512,kernel_size=3,padding=1),\n",
        "            nn.BatchNorm2d(512),\n",
        "            nn.ReLU(True),\n",
        "            nn.Conv2d(512,512,kernel_size=3,padding=1),\n",
        "            nn.BatchNorm2d(512),\n",
        "            nn.ReLU(True),\n",
        "            nn.MaxPool2d(kernel_size=2,stride=2),\n",
        "            nn.Conv2d(512,512,kernel_size=3,padding=1),\n",
        "            nn.BatchNorm2d(512),\n",
        "            nn.ReLU(True),\n",
        "            nn.Conv2d(512,512,kernel_size=3,padding=1),\n",
        "            nn.BatchNorm2d(512),\n",
        "            nn.ReLU(True),\n",
        "            nn.Conv2d(512,512,kernel_size=3,padding=1),\n",
        "            nn.BatchNorm2d(512),\n",
        "            nn.ReLU(True),\n",
        "            nn.Conv2d(512,512,kernel_size=3,padding=1),\n",
        "            nn.BatchNorm2d(512),\n",
        "            nn.ReLU(True),\n",
        "            nn.MaxPool2d(kernel_size=2,stride=2),\n",
        "            nn.AvgPool2d(kernel_size=1,stride=1),\n",
        "            )\n",
        "        self.classifier = nn.Sequential(\n",
        "            nn.Linear(512,4096),\n",
        "            nn.ReLU(True),\n",
        "            nn.Dropout(),\n",
        "            nn.Linear(4096, 4096),\n",
        "            nn.ReLU(True),\n",
        "            nn.Dropout(),\n",
        "            nn.Linear(4096,num_classes),\n",
        "            )\n",
        "    def forward(self, x):\n",
        "        out = self.features(x) \n",
        "        out = out.view(out.size(0), -1)\n",
        "        out = self.classifier(out)\n",
        "        return out \n",
        "\n",
        "\n",
        "net = Net().to(device)\n",
        "lo = []\n",
        "learning_rate = 1e-4\n",
        "criterion = nn.CrossEntropyLoss()\n",
        "optimizer = optim.SGD(net.parameters(), lr=0.0001, momentum=0.9,weight_decay = 0.001)\n",
        "# optimizer = optim.Adam(net.parameters(), lr=learning_rate)\n",
        "for epoch in range(15):  # loop over the dataset multiple times\n",
        "\n",
        "    running_loss = 0.0\n",
        "    for i, data in enumerate(trainloader, 0):\n",
        "        # get the inputs; data is a list of [inputs, labels]\n",
        "        inputs, labels = data\n",
        "        inputs = inputs.to(device)\n",
        "        labels = labels.to(device)\n",
        "        # zero the parameter gradients\n",
        "        optimizer.zero_grad()\n",
        "\n",
        "        # forward + backward + optimize\n",
        "        outputs = net(inputs)\n",
        "        loss = criterion(outputs, labels)\n",
        "        loss.backward()\n",
        "        optimizer.step()\n",
        "\n",
        "        # print statistics\n",
        "        running_loss += loss.item()\n",
        "        if i % 2000 == 1999:    # print every 2000 mini-batches\n",
        "            print('[%d, %5d] loss: %.3f' %\n",
        "                  (epoch + 1, i + 1, running_loss / 2000))\n",
        "            lo.append(running_loss / 2000)\n",
        "            running_loss = 0.0\n",
        "\n",
        "print('Finished Training')"
      ],
      "execution_count": 26,
      "outputs": [
        {
          "output_type": "stream",
          "text": [
            "Files already downloaded and verified\n",
            "Files already downloaded and verified\n",
            "[1,  2000] loss: 2.104\n",
            "[1,  4000] loss: 1.822\n",
            "[1,  6000] loss: 1.688\n",
            "[1,  8000] loss: 1.539\n",
            "[1, 10000] loss: 1.413\n",
            "[1, 12000] loss: 1.348\n",
            "[2,  2000] loss: 1.198\n",
            "[2,  4000] loss: 1.166\n",
            "[2,  6000] loss: 1.091\n",
            "[2,  8000] loss: 1.060\n",
            "[2, 10000] loss: 1.021\n",
            "[2, 12000] loss: 0.960\n",
            "[3,  2000] loss: 0.857\n",
            "[3,  4000] loss: 0.843\n",
            "[3,  6000] loss: 0.817\n",
            "[3,  8000] loss: 0.834\n",
            "[3, 10000] loss: 0.779\n",
            "[3, 12000] loss: 0.776\n",
            "[4,  2000] loss: 0.665\n",
            "[4,  4000] loss: 0.664\n",
            "[4,  6000] loss: 0.676\n",
            "[4,  8000] loss: 0.665\n",
            "[4, 10000] loss: 0.674\n",
            "[4, 12000] loss: 0.636\n",
            "[5,  2000] loss: 0.542\n",
            "[5,  4000] loss: 0.557\n",
            "[5,  6000] loss: 0.532\n",
            "[5,  8000] loss: 0.543\n",
            "[5, 10000] loss: 0.542\n",
            "[5, 12000] loss: 0.533\n",
            "[6,  2000] loss: 0.440\n",
            "[6,  4000] loss: 0.461\n",
            "[6,  6000] loss: 0.467\n",
            "[6,  8000] loss: 0.463\n",
            "[6, 10000] loss: 0.446\n",
            "[6, 12000] loss: 0.475\n",
            "[7,  2000] loss: 0.356\n",
            "[7,  4000] loss: 0.381\n",
            "[7,  6000] loss: 0.386\n",
            "[7,  8000] loss: 0.385\n",
            "[7, 10000] loss: 0.377\n",
            "[7, 12000] loss: 0.408\n",
            "[8,  2000] loss: 0.280\n",
            "[8,  4000] loss: 0.314\n",
            "[8,  6000] loss: 0.311\n",
            "[8,  8000] loss: 0.324\n",
            "[8, 10000] loss: 0.346\n",
            "[8, 12000] loss: 0.357\n",
            "[9,  2000] loss: 0.224\n",
            "[9,  4000] loss: 0.260\n",
            "[9,  6000] loss: 0.279\n",
            "[9,  8000] loss: 0.280\n",
            "[9, 10000] loss: 0.294\n",
            "[9, 12000] loss: 0.301\n",
            "[10,  2000] loss: 0.194\n",
            "[10,  4000] loss: 0.216\n",
            "[10,  6000] loss: 0.228\n",
            "[10,  8000] loss: 0.229\n",
            "[10, 10000] loss: 0.248\n",
            "[10, 12000] loss: 0.239\n",
            "[11,  2000] loss: 0.152\n",
            "[11,  4000] loss: 0.182\n",
            "[11,  6000] loss: 0.197\n",
            "[11,  8000] loss: 0.210\n",
            "[11, 10000] loss: 0.209\n",
            "[11, 12000] loss: 0.227\n",
            "[12,  2000] loss: 0.133\n",
            "[12,  4000] loss: 0.151\n",
            "[12,  6000] loss: 0.168\n",
            "[12,  8000] loss: 0.158\n",
            "[12, 10000] loss: 0.190\n",
            "[12, 12000] loss: 0.182\n",
            "[13,  2000] loss: 0.121\n",
            "[13,  4000] loss: 0.121\n",
            "[13,  6000] loss: 0.154\n",
            "[13,  8000] loss: 0.151\n",
            "[13, 10000] loss: 0.155\n",
            "[13, 12000] loss: 0.159\n",
            "[14,  2000] loss: 0.093\n",
            "[14,  4000] loss: 0.120\n",
            "[14,  6000] loss: 0.122\n",
            "[14,  8000] loss: 0.115\n",
            "[14, 10000] loss: 0.145\n",
            "[14, 12000] loss: 0.131\n",
            "[15,  2000] loss: 0.102\n",
            "[15,  4000] loss: 0.099\n",
            "[15,  6000] loss: 0.128\n",
            "[15,  8000] loss: 0.110\n",
            "[15, 10000] loss: 0.126\n",
            "[15, 12000] loss: 0.126\n",
            "Finished Training\n"
          ],
          "name": "stdout"
        }
      ]
    },
    {
      "cell_type": "code",
      "metadata": {
        "id": "rebt0XIxRq9b",
        "colab_type": "code",
        "colab": {
          "base_uri": "https://localhost:8080/",
          "height": 34
        },
        "outputId": "40142fe3-23fd-4ade-d9e6-22411cc94ce2"
      },
      "source": [
        " torch.cuda.is_available()"
      ],
      "execution_count": 27,
      "outputs": [
        {
          "output_type": "execute_result",
          "data": {
            "text/plain": [
              "True"
            ]
          },
          "metadata": {
            "tags": []
          },
          "execution_count": 27
        }
      ]
    },
    {
      "cell_type": "code",
      "metadata": {
        "id": "l7jLbZ4uRq9d",
        "colab_type": "code",
        "colab": {
          "base_uri": "https://localhost:8080/",
          "height": 265
        },
        "outputId": "c3e7cbdf-c39a-45b2-fc5e-76c5efa64ff2"
      },
      "source": [
        "import matplotlib\n",
        "import matplotlib.pyplot as plt\n",
        "plt.plot(lo)\n",
        "plt.show()"
      ],
      "execution_count": 28,
      "outputs": [
        {
          "output_type": "display_data",
          "data": {
            "image/png": "[encoded data removed]",
            "text/plain": [
              "<Figure size 432x288 with 1 Axes>"
            ]
          },
          "metadata": {
            "tags": [],
            "needs_background": "light"
          }
        }
      ]
    },
    {
      "cell_type": "code",
      "metadata": {
        "tags": [],
        "id": "J7MK-kOMRq9g",
        "colab_type": "code",
        "colab": {}
      },
      "source": [
        "PATH = './cifar_net.pth'\n",
        "torch.save(net.state_dict(), PATH)\n",
        "dataiter = iter(testloader)\n",
        "images, labels = dataiter.next()"
      ],
      "execution_count": 29,
      "outputs": []
    },
    {
      "cell_type": "code",
      "metadata": {
        "id": "Md6BcjWzRq9i",
        "colab_type": "code",
        "colab": {
          "base_uri": "https://localhost:8080/",
          "height": 34
        },
        "outputId": "90782507-22ea-42d7-cc9a-d6f13e9a6c92"
      },
      "source": [
        "net = Net()\n",
        "net.load_state_dict(torch.load(PATH))"
      ],
      "execution_count": 30,
      "outputs": [
        {
          "output_type": "execute_result",
          "data": {
            "text/plain": [
              "<All keys matched successfully>"
            ]
          },
          "metadata": {
            "tags": []
          },
          "execution_count": 30
        }
      ]
    },
    {
      "cell_type": "code",
      "metadata": {
        "tags": [],
        "id": "UZOPls76Rq9l",
        "colab_type": "code",
        "colab": {}
      },
      "source": [
        ""
      ],
      "execution_count": 30,
      "outputs": []
    },
    {
      "cell_type": "code",
      "metadata": {
        "id": "ovuZj3qSaktP",
        "colab_type": "code",
        "colab": {}
      },
      "source": [
        ""
      ],
      "execution_count": 30,
      "outputs": []
    },
    {
      "cell_type": "code",
      "metadata": {
        "tags": [],
        "id": "aZV6OiOqRq9n",
        "colab_type": "code",
        "colab": {
          "base_uri": "https://localhost:8080/",
          "height": 34
        },
        "outputId": "68581db8-b1b9-4af8-c56c-5ace914eb7ec"
      },
      "source": [
        "correct = 0\n",
        "total = 0\n",
        "with torch.no_grad():\n",
        "    for data in testloader:\n",
        "        images, labels = data\n",
        "        outputs = net(images)\n",
        "        _, predicted = torch.max(outputs.data, 1)\n",
        "        total += labels.size(0)\n",
        "        correct += (predicted == labels).sum().item()\n",
        "\n",
        "print('Accuracy of the network on the 10000 test images: %d %%' % (\n",
        "    100 * correct / total))"
      ],
      "execution_count": 31,
      "outputs": [
        {
          "output_type": "stream",
          "text": [
            "Accuracy of the network on the 10000 test images: 81 %\n"
          ],
          "name": "stdout"
        }
      ]
    },
    {
      "cell_type": "code",
      "metadata": {
        "tags": [],
        "id": "DL4F9vDvRq9q",
        "colab_type": "code",
        "colab": {
          "base_uri": "https://localhost:8080/",
          "height": 185
        },
        "outputId": "5f9cac59-3174-4978-ae44-97b69d76f1aa"
      },
      "source": [
        "class_correct = list(0. for i in range(10))\n",
        "class_total = list(0. for i in range(10))\n",
        "with torch.no_grad():\n",
        "    for data in testloader:\n",
        "        images, labels = data\n",
        "        outputs = net(images)\n",
        "        _, predicted = torch.max(outputs, 1)\n",
        "        c = (predicted == labels).squeeze()\n",
        "        for i in range(4):\n",
        "            label = labels[i]\n",
        "            class_correct[label] += c[i].item()\n",
        "            class_total[label] += 1\n",
        "\n",
        "\n",
        "for i in range(10):\n",
        "    print('Accuracy of %5s : %2d %%' % (\n",
        "        classes[i], 100 * class_correct[i] / class_total[i]))"
      ],
      "execution_count": 32,
      "outputs": [
        {
          "output_type": "stream",
          "text": [
            "Accuracy of plane : 82 %\n",
            "Accuracy of   car : 90 %\n",
            "Accuracy of  bird : 73 %\n",
            "Accuracy of   cat : 73 %\n",
            "Accuracy of  deer : 78 %\n",
            "Accuracy of   dog : 68 %\n",
            "Accuracy of  frog : 83 %\n",
            "Accuracy of horse : 82 %\n",
            "Accuracy of  ship : 90 %\n",
            "Accuracy of truck : 90 %\n"
          ],
          "name": "stdout"
        }
      ]
    },
    {
      "cell_type": "code",
      "metadata": {
        "id": "oVlwVStfRq9s",
        "colab_type": "code",
        "colab": {}
      },
      "source": [
        ""
      ],
      "execution_count": 21,
      "outputs": []
    },
    {
      "cell_type": "code",
      "metadata": {
        "id": "URFKF20GRq9u",
        "colab_type": "code",
        "colab": {}
      },
      "source": [
        ""
      ],
      "execution_count": null,
      "outputs": []
    },
    {
      "cell_type": "code",
      "metadata": {
        "id": "8IiIq4bGRq9x",
        "colab_type": "code",
        "colab": {}
      },
      "source": [
        ""
      ],
      "execution_count": null,
      "outputs": []
    }
  ]
}